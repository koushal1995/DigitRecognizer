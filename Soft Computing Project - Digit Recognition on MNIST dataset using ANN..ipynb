{
 "cells": [
  {
   "cell_type": "code",
   "execution_count": 1,
   "metadata": {},
   "outputs": [
    {
     "name": "stderr",
     "output_type": "stream",
     "text": [
      "C:\\Users\\koushal\\Anaconda3\\lib\\site-packages\\h5py\\__init__.py:36: FutureWarning: Conversion of the second argument of issubdtype from `float` to `np.floating` is deprecated. In future, it will be treated as `np.float64 == np.dtype(float).type`.\n",
      "  from ._conv import register_converters as _register_converters\n",
      "Using TensorFlow backend.\n"
     ]
    }
   ],
   "source": [
    "#Importing the libraries\n",
    "import pandas as pd\n",
    "import matplotlib.pyplot as plt\n",
    "import numpy as np\n",
    "from keras.models import Sequential\n",
    "from keras.layers import Dense, Dropout, Activation, Flatten\n",
    "from keras.layers import Convolution2D, MaxPooling2D\n",
    "from keras.utils import np_utils"
   ]
  },
  {
   "cell_type": "code",
   "execution_count": 2,
   "metadata": {},
   "outputs": [],
   "source": [
    "#Loading the Training and Test Datasets\n",
    "df_training = pd.read_csv('ann_train.csv', header=None)\n",
    "df_test = pd.read_csv('ann_test.csv', header=None)\n",
    "ytrain = df_training.iloc[:,0]\n",
    "ytest = df_test.iloc[:,0]\n",
    "df_training.drop(df_training.columns[[0]], axis=1, inplace=True)\n",
    "df_test.drop(df_test.columns[[0]], axis=1, inplace=True)"
   ]
  },
  {
   "cell_type": "code",
   "execution_count": 3,
   "metadata": {},
   "outputs": [],
   "source": [
    "#PreProcess the input Data\n",
    "df_training = df_training.values\n",
    "df_test = df_test.values\n",
    "xtrain = df_training.reshape(-1,28,28)\n",
    "xtest = df_test.reshape(-1,28,28)\n",
    "xtrain = xtrain/255\n",
    "xtest = xtest/255"
   ]
  },
  {
   "cell_type": "code",
   "execution_count": 4,
   "metadata": {},
   "outputs": [
    {
     "data": {
      "text/plain": [
       "<matplotlib.image.AxesImage at 0x2a5a81fb278>"
      ]
     },
     "execution_count": 4,
     "metadata": {},
     "output_type": "execute_result"
    },
    {
     "data": {
      "image/png": "[encoded data removed]",
      "text/plain": [
       "<matplotlib.figure.Figure at 0x2a5a1fd6f98>"
      ]
     },
     "metadata": {},
     "output_type": "display_data"
    }
   ],
   "source": [
    "#display the images\n",
    "plt.imshow(xtrain[0])\n"
   ]
  },
  {
   "cell_type": "code",
   "execution_count": null,
   "metadata": {},
   "outputs": [],
   "source": [
    "plt.imshow(xtest[0])"
   ]
  },
  {
   "cell_type": "code",
   "execution_count": 11,
   "metadata": {},
   "outputs": [],
   "source": [
    "xtrain = xtrain.reshape(xtrain.shape[0],28,28,1)"
   ]
  },
  {
   "cell_type": "code",
   "execution_count": 12,
   "metadata": {},
   "outputs": [
    {
     "data": {
      "text/plain": [
       "(60000, 28, 28, 1)"
      ]
     },
     "execution_count": 12,
     "metadata": {},
     "output_type": "execute_result"
    }
   ],
   "source": [
    "xtrain.shape"
   ]
  },
  {
   "cell_type": "raw",
   "metadata": {},
   "source": []
  },
  {
   "cell_type": "code",
   "execution_count": 5,
   "metadata": {},
   "outputs": [],
   "source": [
    "#PreProcess Class Labels\n",
    "ytrain = np_utils.to_categorical(ytrain, 10)\n",
    "ytest = np_utils.to_categorical(ytest, 10)"
   ]
  },
  {
   "cell_type": "code",
   "execution_count": 6,
   "metadata": {},
   "outputs": [
    {
     "name": "stderr",
     "output_type": "stream",
     "text": [
      "C:\\Users\\koushal\\Anaconda3\\lib\\site-packages\\ipykernel_launcher.py:4: UserWarning: Update your `Conv2D` call to the Keras 2 API: `Conv2D(32, (3, 3), activation=\"relu\", input_shape=(28, 28, 1...)`\n",
      "  after removing the cwd from sys.path.\n",
      "C:\\Users\\koushal\\Anaconda3\\lib\\site-packages\\ipykernel_launcher.py:6: UserWarning: Update your `Conv2D` call to the Keras 2 API: `Conv2D(32, (3, 3), activation=\"relu\")`\n",
      "  \n"
     ]
    }
   ],
   "source": [
    "#Define Model Architecture\n",
    "model = Sequential()\n",
    "\n",
    "model.add(Convolution2D(32, 3, 3, activation='relu', input_shape=(28,28,1)))\n",
    "#model.output_shape\n",
    "model.add(Convolution2D(32, 3, 3, activation='relu'))\n",
    "model.add(MaxPooling2D(pool_size=(2,2)))\n",
    "model.add(Dropout(0.25))\n",
    " \n",
    "model.add(Flatten())\n",
    "model.add(Dense(128, activation='relu'))\n",
    "model.add(Dropout(0.5))\n",
    "model.add(Dense(10, activation='softmax'))"
   ]
  },
  {
   "cell_type": "code",
   "execution_count": 7,
   "metadata": {},
   "outputs": [],
   "source": [
    "#Compiling the Model\n",
    "model.compile(loss='categorical_crossentropy',\n",
    "              optimizer='adam',\n",
    "              metrics=['accuracy'])"
   ]
  },
  {
   "cell_type": "code",
   "execution_count": 13,
   "metadata": {
    "scrolled": true
   },
   "outputs": [
    {
     "name": "stderr",
     "output_type": "stream",
     "text": [
      "C:\\Users\\koushal\\Anaconda3\\lib\\site-packages\\ipykernel_launcher.py:3: UserWarning: The `nb_epoch` argument in `fit` has been renamed `epochs`.\n",
      "  This is separate from the ipykernel package so we can avoid doing imports until\n"
     ]
    },
    {
     "name": "stdout",
     "output_type": "stream",
     "text": [
      "Epoch 1/10\n",
      "60000/60000 [==============================] - 198s 3ms/step - loss: 0.2018 - acc: 0.9385 1s - loss: 0.2\n",
      "Epoch 2/10\n",
      "60000/60000 [==============================] - 205s 3ms/step - loss: 0.0851 - acc: 0.9742\n",
      "Epoch 3/10\n",
      "60000/60000 [==============================] - 247s 4ms/step - loss: 0.0674 - acc: 0.9790\n",
      "Epoch 4/10\n",
      "60000/60000 [==============================] - 197s 3ms/step - loss: 0.0571 - acc: 0.9829 1s - loss: 0.057\n",
      "Epoch 5/10\n",
      "60000/60000 [==============================] - 196s 3ms/step - loss: 0.0479 - acc: 0.9850\n",
      "Epoch 6/10\n",
      "60000/60000 [==============================] - 193s 3ms/step - loss: 0.0401 - acc: 0.9879\n",
      "Epoch 7/10\n",
      "60000/60000 [==============================] - 206s 3ms/step - loss: 0.0372 - acc: 0.9885\n",
      "Epoch 8/10\n",
      "60000/60000 [==============================] - 215s 4ms/step - loss: 0.0338 - acc: 0.9894\n",
      "Epoch 9/10\n",
      "60000/60000 [==============================] - 202s 3ms/step - loss: 0.0306 - acc: 0.9904\n",
      "Epoch 10/10\n",
      "60000/60000 [==============================] - 200s 3ms/step - loss: 0.0287 - acc: 0.9908\n"
     ]
    },
    {
     "data": {
      "text/plain": [
       "<keras.callbacks.History at 0x2a5a8394cc0>"
      ]
     },
     "execution_count": 13,
     "metadata": {},
     "output_type": "execute_result"
    }
   ],
   "source": [
    "#Fit Keras Model\n",
    "model.fit(xtrain, ytrain, \n",
    "          batch_size=32, nb_epoch=10, verbose=1)"
   ]
  },
  {
   "cell_type": "code",
   "execution_count": null,
   "metadata": {},
   "outputs": [],
   "source": [
    "model.layers"
   ]
  },
  {
   "cell_type": "code",
   "execution_count": null,
   "metadata": {},
   "outputs": [],
   "source": [
    "np.resize(xtrain,(-1, 60000,28,28))"
   ]
  },
  {
   "cell_type": "code",
   "execution_count": 19,
   "metadata": {},
   "outputs": [],
   "source": [
    "xtest = xtest.reshape(xtest.shape[0],28,28,1)"
   ]
  },
  {
   "cell_type": "code",
   "execution_count": 23,
   "metadata": {},
   "outputs": [],
   "source": [
    "# 10. Evaluate model on test datascore\n",
    "score= model.evaluate(xtest, ytest,verbose=0)"
   ]
  },
  {
   "cell_type": "code",
   "execution_count": 21,
   "metadata": {},
   "outputs": [
    {
     "data": {
      "text/plain": [
       "[0.024120102600112842, 0.9929]"
      ]
     },
     "execution_count": 21,
     "metadata": {},
     "output_type": "execute_result"
    }
   ],
   "source": [
    "score"
   ]
  },
  {
   "cell_type": "code",
   "execution_count": 24,
   "metadata": {},
   "outputs": [],
   "source": [
    "score1= model.evaluate(xtrain, ytrain, verbose=0)"
   ]
  },
  {
   "cell_type": "code",
   "execution_count": null,
   "metadata": {},
   "outputs": [],
   "source": []
  },
  {
   "cell_type": "code",
   "execution_count": 22,
   "metadata": {},
   "outputs": [
    {
     "name": "stderr",
     "output_type": "stream",
     "text": [
      "C:\\Users\\koushal\\Anaconda3\\lib\\site-packages\\ipykernel_launcher.py:2: UserWarning: The `nb_epoch` argument in `fit` has been renamed `epochs`.\n",
      "  \n"
     ]
    },
    {
     "name": "stdout",
     "output_type": "stream",
     "text": [
      "Epoch 1/10\n",
      "10000/10000 [==============================] - 35s 3ms/step - loss: 0.0523 - acc: 0.9853\n",
      "Epoch 2/10\n",
      "10000/10000 [==============================] - 33s 3ms/step - loss: 0.0339 - acc: 0.9881\n",
      "Epoch 3/10\n",
      "10000/10000 [==============================] - 39s 4ms/step - loss: 0.0217 - acc: 0.9934\n",
      "Epoch 4/10\n",
      "10000/10000 [==============================] - 37s 4ms/step - loss: 0.0194 - acc: 0.9938\n",
      "Epoch 5/10\n",
      "10000/10000 [==============================] - 36s 4ms/step - loss: 0.0167 - acc: 0.9940\n",
      "Epoch 6/10\n",
      "10000/10000 [==============================] - 36s 4ms/step - loss: 0.0159 - acc: 0.9942\n",
      "Epoch 7/10\n",
      "10000/10000 [==============================] - 37s 4ms/step - loss: 0.0173 - acc: 0.9936\n",
      "Epoch 8/10\n",
      "10000/10000 [==============================] - 36s 4ms/step - loss: 0.0127 - acc: 0.9955: 2s - loss: 0.\n",
      "Epoch 9/10\n",
      "10000/10000 [==============================] - 36s 4ms/step - loss: 0.0130 - acc: 0.9959\n",
      "Epoch 10/10\n",
      "10000/10000 [==============================] - 36s 4ms/step - loss: 0.0091 - acc: 0.9968\n"
     ]
    },
    {
     "data": {
      "text/plain": [
       "<keras.callbacks.History at 0x2a5a895df28>"
      ]
     },
     "execution_count": 22,
     "metadata": {},
     "output_type": "execute_result"
    }
   ],
   "source": [
    "model.fit(xtest, ytest, \n",
    "          batch_size=32, nb_epoch=10, verbose=1)"
   ]
  },
  {
   "cell_type": "code",
   "execution_count": null,
   "metadata": {},
   "outputs": [],
   "source": [
    "from sklearn.neural_network import MLPClassifier"
   ]
  },
  {
   "cell_type": "code",
   "execution_count": null,
   "metadata": {},
   "outputs": [],
   "source": [
    "clf = MLPClassifier(solver='lbfgs', alpha=1e-5, hidden_layer_sizes=(5, 2), random_state=1)"
   ]
  },
  {
   "cell_type": "code",
   "execution_count": 25,
   "metadata": {},
   "outputs": [
    {
     "data": {
      "text/plain": [
       "[0.015487045173343783, 0.9953666666666666]"
      ]
     },
     "execution_count": 25,
     "metadata": {},
     "output_type": "execute_result"
    }
   ],
   "source": [
    "score1"
   ]
  },
  {
   "cell_type": "code",
   "execution_count": null,
   "metadata": {},
   "outputs": [],
   "source": []
  }
 ],
 "metadata": {
  "kernelspec": {
   "display_name": "Python 3",
   "language": "python",
   "name": "python3"
  },
  "language_info": {
   "codemirror_mode": {
    "name": "ipython",
    "version": 3
   },
   "file_extension": ".py",
   "mimetype": "text/x-python",
   "name": "python",
   "nbconvert_exporter": "python",
   "pygments_lexer": "ipython3",
   "version": "3.6.4"
  }
 },
 "nbformat": 4,
 "nbformat_minor": 2
}
